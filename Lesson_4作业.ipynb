{
 "cells": [
  {
   "cell_type": "code",
   "execution_count": 1,
   "metadata": {},
   "outputs": [],
   "source": [
    "# -*- coding: UTF-8 -*-\n",
    "import jieba\n",
    "def cut(string): return ' '.join(jieba.cut(string))"
   ]
  },
  {
   "cell_type": "code",
   "execution_count": 2,
   "metadata": {},
   "outputs": [
    {
     "name": "stderr",
     "output_type": "stream",
     "text": [
      "Building prefix dict from the default dictionary ...\n",
      "Loading model from cache C:\\Users\\lenovo\\AppData\\Local\\Temp\\jieba.cache\n",
      "Loading model cost 0.755 seconds.\n",
      "Prefix dict has been built succesfully.\n"
     ]
    },
    {
     "name": "stdout",
     "output_type": "stream",
     "text": [
      "从前 喜欢 一个 人 <class 'str'>\n"
     ]
    }
   ],
   "source": [
    "a = cut('从前喜欢一个人')\n",
    "print(a,type(a))"
   ]
  },
  {
   "cell_type": "code",
   "execution_count": 5,
   "metadata": {},
   "outputs": [],
   "source": [
    "with open('article_9k.txt','r',encoding='utf-8') as f,open('cut_article_9k.txt', 'w',encoding='utf-8') as fout:\n",
    "    lines = f.readlines()\n",
    "    for i,line in enumerate(lines):\n",
    "        \n",
    "        fout.write(cut(line))"
   ]
  },
  {
   "cell_type": "code",
   "execution_count": 6,
   "metadata": {},
   "outputs": [
    {
     "name": "stderr",
     "output_type": "stream",
     "text": [
      "E:\\Anaconda3\\lib\\site-packages\\gensim\\utils.py:1197: UserWarning: detected Windows; aliasing chunkize to chunkize_serial\n",
      "  warnings.warn(\"detected Windows; aliasing chunkize to chunkize_serial\")\n",
      "2019-08-10 10:35:51,843 : INFO : collecting all words and their counts\n",
      "C:\\Users\\lenovo\\AppData\\Roaming\\Python\\Python37\\site-packages\\smart_open\\smart_open_lib.py:398: UserWarning: This function is deprecated, use smart_open.open instead. See the migration notes for details: https://github.com/RaRe-Technologies/smart_open/blob/master/README.rst#migrating-to-the-new-open-function\n",
      "  'See the migration notes for details: %s' % _MIGRATION_NOTES_URL\n",
      "2019-08-10 10:35:51,876 : INFO : PROGRESS: at sentence #0, processed 0 words, keeping 0 word types\n",
      "2019-08-10 10:35:53,052 : INFO : PROGRESS: at sentence #10000, processed 3684164 words, keeping 148557 word types\n",
      "2019-08-10 10:35:53,554 : INFO : PROGRESS: at sentence #20000, processed 5353913 words, keeping 174173 word types\n",
      "2019-08-10 10:35:54,062 : INFO : PROGRESS: at sentence #30000, processed 6948716 words, keeping 189746 word types\n",
      "2019-08-10 10:35:54,614 : INFO : PROGRESS: at sentence #40000, processed 8626790 words, keeping 206181 word types\n",
      "2019-08-10 10:35:55,302 : INFO : PROGRESS: at sentence #50000, processed 10484049 words, keeping 222534 word types\n",
      "2019-08-10 10:35:55,952 : INFO : PROGRESS: at sentence #60000, processed 12378660 words, keeping 237871 word types\n",
      "2019-08-10 10:35:56,455 : INFO : PROGRESS: at sentence #70000, processed 14084045 words, keeping 250282 word types\n",
      "2019-08-10 10:35:56,974 : INFO : PROGRESS: at sentence #80000, processed 15789941 words, keeping 262059 word types\n",
      "2019-08-10 10:35:57,485 : INFO : collected 273632 word types from a corpus of 17528643 raw words and 89609 sentences\n",
      "2019-08-10 10:35:57,485 : INFO : Loading a fresh vocabulary\n",
      "2019-08-10 10:35:57,779 : INFO : min_count=4 retains 113570 unique words (41% of original 273632, drops 160062)\n",
      "2019-08-10 10:35:57,779 : INFO : min_count=4 leaves 17287593 word corpus (98% of original 17528643, drops 241050)\n",
      "2019-08-10 10:35:58,055 : INFO : deleting the raw counts dictionary of 273632 items\n",
      "2019-08-10 10:35:58,075 : INFO : sample=0.001 downsamples 30 most-common words\n",
      "2019-08-10 10:35:58,077 : INFO : downsampling leaves estimated 15484182 word corpus (89.6% of prior 17287593)\n",
      "2019-08-10 10:35:58,396 : INFO : estimated required memory for 113570 words and 100 dimensions: 147641000 bytes\n",
      "2019-08-10 10:35:58,406 : INFO : resetting layer weights\n",
      "2019-08-10 10:35:59,526 : INFO : training model with 4 workers on 113570 vocabulary and 100 features, using sg=0 hs=0 sample=0.001 negative=5 window=4\n",
      "2019-08-10 10:36:00,527 : INFO : EPOCH 1 - PROGRESS: at 2.39% examples, 811407 words/s, in_qsize 0, out_qsize 0\n",
      "2019-08-10 10:36:01,537 : INFO : EPOCH 1 - PROGRESS: at 4.45% examples, 784932 words/s, in_qsize 0, out_qsize 0\n",
      "2019-08-10 10:36:02,548 : INFO : EPOCH 1 - PROGRESS: at 7.59% examples, 887714 words/s, in_qsize 1, out_qsize 0\n",
      "2019-08-10 10:36:03,549 : INFO : EPOCH 1 - PROGRESS: at 14.41% examples, 934322 words/s, in_qsize 7, out_qsize 0\n",
      "2019-08-10 10:36:04,550 : INFO : EPOCH 1 - PROGRESS: at 23.14% examples, 972282 words/s, in_qsize 1, out_qsize 0\n",
      "2019-08-10 10:36:05,550 : INFO : EPOCH 1 - PROGRESS: at 31.88% examples, 999993 words/s, in_qsize 0, out_qsize 0\n",
      "2019-08-10 10:36:06,573 : INFO : EPOCH 1 - PROGRESS: at 40.57% examples, 1014111 words/s, in_qsize 5, out_qsize 0\n",
      "2019-08-10 10:36:07,572 : INFO : EPOCH 1 - PROGRESS: at 47.68% examples, 1008513 words/s, in_qsize 3, out_qsize 0\n",
      "2019-08-10 10:36:08,576 : INFO : EPOCH 1 - PROGRESS: at 55.27% examples, 1017219 words/s, in_qsize 0, out_qsize 0\n",
      "2019-08-10 10:36:09,590 : INFO : EPOCH 1 - PROGRESS: at 61.06% examples, 1000012 words/s, in_qsize 0, out_qsize 0\n",
      "2019-08-10 10:36:10,584 : INFO : EPOCH 1 - PROGRESS: at 68.70% examples, 1008401 words/s, in_qsize 0, out_qsize 0\n",
      "2019-08-10 10:36:11,596 : INFO : EPOCH 1 - PROGRESS: at 76.13% examples, 1010921 words/s, in_qsize 4, out_qsize 0\n",
      "2019-08-10 10:36:12,594 : INFO : EPOCH 1 - PROGRESS: at 83.90% examples, 1015900 words/s, in_qsize 3, out_qsize 0\n",
      "2019-08-10 10:36:13,604 : INFO : EPOCH 1 - PROGRESS: at 92.41% examples, 1022854 words/s, in_qsize 1, out_qsize 0\n",
      "2019-08-10 10:36:14,545 : INFO : worker thread finished; awaiting finish of 3 more threads\n",
      "2019-08-10 10:36:14,557 : INFO : worker thread finished; awaiting finish of 2 more threads\n",
      "2019-08-10 10:36:14,559 : INFO : worker thread finished; awaiting finish of 1 more threads\n",
      "2019-08-10 10:36:14,561 : INFO : worker thread finished; awaiting finish of 0 more threads\n",
      "2019-08-10 10:36:14,562 : INFO : EPOCH - 1 : training on 17528643 raw words (15484661 effective words) took 15.0s, 1030114 effective words/s\n",
      "2019-08-10 10:36:15,576 : INFO : EPOCH 2 - PROGRESS: at 3.18% examples, 1088028 words/s, in_qsize 0, out_qsize 0\n",
      "2019-08-10 10:36:16,577 : INFO : EPOCH 2 - PROGRESS: at 6.39% examples, 1097862 words/s, in_qsize 0, out_qsize 0\n",
      "2019-08-10 10:36:17,577 : INFO : EPOCH 2 - PROGRESS: at 11.11% examples, 1093650 words/s, in_qsize 1, out_qsize 0\n",
      "2019-08-10 10:36:18,588 : INFO : EPOCH 2 - PROGRESS: at 19.79% examples, 1101688 words/s, in_qsize 0, out_qsize 0\n",
      "2019-08-10 10:36:19,599 : INFO : EPOCH 2 - PROGRESS: at 28.06% examples, 1089640 words/s, in_qsize 0, out_qsize 0\n",
      "2019-08-10 10:36:20,604 : INFO : EPOCH 2 - PROGRESS: at 34.23% examples, 1039670 words/s, in_qsize 1, out_qsize 0\n",
      "2019-08-10 10:36:21,601 : INFO : EPOCH 2 - PROGRESS: at 41.23% examples, 1025320 words/s, in_qsize 0, out_qsize 0\n",
      "2019-08-10 10:36:22,612 : INFO : EPOCH 2 - PROGRESS: at 47.85% examples, 1010633 words/s, in_qsize 1, out_qsize 0\n",
      "2019-08-10 10:36:23,618 : INFO : EPOCH 2 - PROGRESS: at 55.63% examples, 1023282 words/s, in_qsize 2, out_qsize 0\n",
      "2019-08-10 10:36:24,628 : INFO : EPOCH 2 - PROGRESS: at 63.53% examples, 1034727 words/s, in_qsize 0, out_qsize 0\n",
      "2019-08-10 10:36:25,632 : INFO : EPOCH 2 - PROGRESS: at 71.71% examples, 1043698 words/s, in_qsize 0, out_qsize 0\n",
      "2019-08-10 10:36:26,632 : INFO : EPOCH 2 - PROGRESS: at 79.64% examples, 1051921 words/s, in_qsize 0, out_qsize 0\n",
      "2019-08-10 10:36:27,637 : INFO : EPOCH 2 - PROGRESS: at 88.37% examples, 1058811 words/s, in_qsize 1, out_qsize 0\n",
      "2019-08-10 10:36:28,646 : INFO : EPOCH 2 - PROGRESS: at 96.60% examples, 1064602 words/s, in_qsize 0, out_qsize 0\n",
      "2019-08-10 10:36:29,072 : INFO : worker thread finished; awaiting finish of 3 more threads\n",
      "2019-08-10 10:36:29,087 : INFO : worker thread finished; awaiting finish of 2 more threads\n",
      "2019-08-10 10:36:29,091 : INFO : worker thread finished; awaiting finish of 1 more threads\n",
      "2019-08-10 10:36:29,093 : INFO : worker thread finished; awaiting finish of 0 more threads\n",
      "2019-08-10 10:36:29,095 : INFO : EPOCH - 2 : training on 17528643 raw words (15485091 effective words) took 14.5s, 1065878 effective words/s\n",
      "2019-08-10 10:36:30,102 : INFO : EPOCH 3 - PROGRESS: at 3.04% examples, 1043803 words/s, in_qsize 2, out_qsize 0\n",
      "2019-08-10 10:36:31,104 : INFO : EPOCH 3 - PROGRESS: at 5.94% examples, 1019937 words/s, in_qsize 0, out_qsize 1\n",
      "2019-08-10 10:36:32,113 : INFO : EPOCH 3 - PROGRESS: at 8.56% examples, 1012009 words/s, in_qsize 0, out_qsize 1\n",
      "2019-08-10 10:36:33,122 : INFO : EPOCH 3 - PROGRESS: at 17.15% examples, 1027808 words/s, in_qsize 4, out_qsize 0\n",
      "2019-08-10 10:36:34,122 : INFO : EPOCH 3 - PROGRESS: at 26.28% examples, 1046760 words/s, in_qsize 1, out_qsize 0\n",
      "2019-08-10 10:36:35,132 : INFO : EPOCH 3 - PROGRESS: at 35.12% examples, 1058432 words/s, in_qsize 0, out_qsize 0\n",
      "2019-08-10 10:36:36,132 : INFO : EPOCH 3 - PROGRESS: at 43.32% examples, 1061445 words/s, in_qsize 1, out_qsize 0\n",
      "2019-08-10 10:36:37,142 : INFO : EPOCH 3 - PROGRESS: at 51.03% examples, 1067476 words/s, in_qsize 0, out_qsize 0\n",
      "2019-08-10 10:36:38,151 : INFO : EPOCH 3 - PROGRESS: at 58.46% examples, 1072327 words/s, in_qsize 4, out_qsize 0\n",
      "2019-08-10 10:36:39,162 : INFO : EPOCH 3 - PROGRESS: at 66.28% examples, 1076284 words/s, in_qsize 0, out_qsize 0\n",
      "2019-08-10 10:36:40,172 : INFO : EPOCH 3 - PROGRESS: at 74.56% examples, 1080310 words/s, in_qsize 0, out_qsize 0\n",
      "2019-08-10 10:36:41,171 : INFO : EPOCH 3 - PROGRESS: at 82.61% examples, 1084163 words/s, in_qsize 1, out_qsize 0\n"
     ]
    },
    {
     "name": "stderr",
     "output_type": "stream",
     "text": [
      "2019-08-10 10:36:42,181 : INFO : EPOCH 3 - PROGRESS: at 91.08% examples, 1085775 words/s, in_qsize 1, out_qsize 0\n",
      "2019-08-10 10:36:43,181 : INFO : EPOCH 3 - PROGRESS: at 98.99% examples, 1087437 words/s, in_qsize 0, out_qsize 0\n",
      "2019-08-10 10:36:43,330 : INFO : worker thread finished; awaiting finish of 3 more threads\n",
      "2019-08-10 10:36:43,339 : INFO : worker thread finished; awaiting finish of 2 more threads\n",
      "2019-08-10 10:36:43,342 : INFO : worker thread finished; awaiting finish of 1 more threads\n",
      "2019-08-10 10:36:43,343 : INFO : worker thread finished; awaiting finish of 0 more threads\n",
      "2019-08-10 10:36:43,344 : INFO : EPOCH - 3 : training on 17528643 raw words (15484263 effective words) took 14.2s, 1086964 effective words/s\n",
      "2019-08-10 10:36:44,353 : INFO : EPOCH 4 - PROGRESS: at 3.18% examples, 1096036 words/s, in_qsize 0, out_qsize 0\n",
      "2019-08-10 10:36:45,353 : INFO : EPOCH 4 - PROGRESS: at 6.36% examples, 1098957 words/s, in_qsize 0, out_qsize 0\n",
      "2019-08-10 10:36:46,352 : INFO : EPOCH 4 - PROGRESS: at 11.08% examples, 1092347 words/s, in_qsize 0, out_qsize 0\n",
      "2019-08-10 10:36:47,372 : INFO : EPOCH 4 - PROGRESS: at 19.42% examples, 1092259 words/s, in_qsize 3, out_qsize 0\n",
      "2019-08-10 10:36:48,373 : INFO : EPOCH 4 - PROGRESS: at 28.46% examples, 1103433 words/s, in_qsize 2, out_qsize 1\n",
      "2019-08-10 10:36:49,371 : INFO : EPOCH 4 - PROGRESS: at 37.53% examples, 1111508 words/s, in_qsize 0, out_qsize 0\n",
      "2019-08-10 10:36:50,383 : INFO : EPOCH 4 - PROGRESS: at 45.68% examples, 1112273 words/s, in_qsize 0, out_qsize 0\n",
      "2019-08-10 10:36:51,392 : INFO : EPOCH 4 - PROGRESS: at 53.63% examples, 1111780 words/s, in_qsize 7, out_qsize 0\n",
      "2019-08-10 10:36:52,393 : INFO : EPOCH 4 - PROGRESS: at 61.16% examples, 1113505 words/s, in_qsize 0, out_qsize 0\n",
      "2019-08-10 10:36:53,401 : INFO : EPOCH 4 - PROGRESS: at 69.15% examples, 1115712 words/s, in_qsize 0, out_qsize 0\n",
      "2019-08-10 10:36:54,402 : INFO : EPOCH 4 - PROGRESS: at 77.48% examples, 1119537 words/s, in_qsize 0, out_qsize 0\n",
      "2019-08-10 10:36:55,409 : INFO : EPOCH 4 - PROGRESS: at 85.62% examples, 1119984 words/s, in_qsize 0, out_qsize 0\n",
      "2019-08-10 10:36:56,413 : INFO : EPOCH 4 - PROGRESS: at 94.20% examples, 1122114 words/s, in_qsize 0, out_qsize 0\n",
      "2019-08-10 10:36:57,124 : INFO : worker thread finished; awaiting finish of 3 more threads\n",
      "2019-08-10 10:36:57,136 : INFO : worker thread finished; awaiting finish of 2 more threads\n",
      "2019-08-10 10:36:57,139 : INFO : worker thread finished; awaiting finish of 1 more threads\n",
      "2019-08-10 10:36:57,142 : INFO : worker thread finished; awaiting finish of 0 more threads\n",
      "2019-08-10 10:36:57,146 : INFO : EPOCH - 4 : training on 17528643 raw words (15484154 effective words) took 13.8s, 1122463 effective words/s\n",
      "2019-08-10 10:36:58,154 : INFO : EPOCH 5 - PROGRESS: at 3.18% examples, 1098509 words/s, in_qsize 0, out_qsize 0\n",
      "2019-08-10 10:36:59,165 : INFO : EPOCH 5 - PROGRESS: at 6.46% examples, 1110787 words/s, in_qsize 0, out_qsize 0\n",
      "2019-08-10 10:37:00,166 : INFO : EPOCH 5 - PROGRESS: at 11.14% examples, 1095939 words/s, in_qsize 0, out_qsize 0\n",
      "2019-08-10 10:37:01,166 : INFO : EPOCH 5 - PROGRESS: at 19.37% examples, 1091611 words/s, in_qsize 0, out_qsize 0\n",
      "2019-08-10 10:37:02,166 : INFO : EPOCH 5 - PROGRESS: at 28.46% examples, 1104768 words/s, in_qsize 0, out_qsize 0\n",
      "2019-08-10 10:37:03,177 : INFO : EPOCH 5 - PROGRESS: at 37.49% examples, 1110816 words/s, in_qsize 0, out_qsize 0\n",
      "2019-08-10 10:37:04,179 : INFO : EPOCH 5 - PROGRESS: at 45.62% examples, 1112600 words/s, in_qsize 0, out_qsize 0\n",
      "2019-08-10 10:37:05,179 : INFO : EPOCH 5 - PROGRESS: at 53.77% examples, 1115846 words/s, in_qsize 2, out_qsize 0\n",
      "2019-08-10 10:37:06,179 : INFO : EPOCH 5 - PROGRESS: at 61.24% examples, 1117735 words/s, in_qsize 0, out_qsize 0\n",
      "2019-08-10 10:37:07,180 : INFO : EPOCH 5 - PROGRESS: at 69.50% examples, 1121876 words/s, in_qsize 0, out_qsize 0\n",
      "2019-08-10 10:37:08,200 : INFO : EPOCH 5 - PROGRESS: at 77.87% examples, 1124212 words/s, in_qsize 0, out_qsize 0\n",
      "2019-08-10 10:37:09,201 : INFO : EPOCH 5 - PROGRESS: at 86.17% examples, 1126226 words/s, in_qsize 3, out_qsize 0\n",
      "2019-08-10 10:37:10,212 : INFO : EPOCH 5 - PROGRESS: at 94.71% examples, 1128484 words/s, in_qsize 3, out_qsize 0\n",
      "2019-08-10 10:37:10,838 : INFO : worker thread finished; awaiting finish of 3 more threads\n",
      "2019-08-10 10:37:10,846 : INFO : worker thread finished; awaiting finish of 2 more threads\n",
      "2019-08-10 10:37:10,852 : INFO : worker thread finished; awaiting finish of 1 more threads\n",
      "2019-08-10 10:37:10,858 : INFO : worker thread finished; awaiting finish of 0 more threads\n",
      "2019-08-10 10:37:10,860 : INFO : EPOCH - 5 : training on 17528643 raw words (15483662 effective words) took 13.7s, 1129569 effective words/s\n",
      "2019-08-10 10:37:10,861 : INFO : training on a 87643215 raw words (77421831 effective words) took 71.3s, 1085363 effective words/s\n",
      "2019-08-10 10:37:10,861 : INFO : saving Word2Vec object under word2vecModel_article_9k.model, separately None\n",
      "2019-08-10 10:37:10,862 : INFO : storing np array 'vectors' to word2vecModel_article_9k.model.wv.vectors.npy\n",
      "2019-08-10 10:37:11,222 : INFO : not storing attribute vectors_norm\n",
      "2019-08-10 10:37:11,222 : INFO : storing np array 'syn1neg' to word2vecModel_article_9k.model.trainables.syn1neg.npy\n",
      "2019-08-10 10:37:11,509 : INFO : not storing attribute cum_table\n",
      "2019-08-10 10:37:11,726 : INFO : saved word2vecModel_article_9k.model\n"
     ]
    }
   ],
   "source": [
    "from gensim.models import word2vec\n",
    "import logging\n",
    "\n",
    "logging.basicConfig(format='%(asctime)s : %(levelname)s : %(message)s', level=logging.INFO)\n",
    "sentences = word2vec.LineSentence(u'cut_article_9k.txt')\n",
    "model = word2vec.Word2Vec(sentences,size=100,window=4,min_count=4,workers=4)\n",
    "model.save('word2vecModel_article_9k.model')"
   ]
  },
  {
   "cell_type": "code",
   "execution_count": 33,
   "metadata": {},
   "outputs": [
    {
     "name": "stdout",
     "output_type": "stream",
     "text": [
      "<gensim.models.word2vec.LineSentence object at 0x0000018ED0568DD8>\n"
     ]
    }
   ],
   "source": []
  },
  {
   "cell_type": "code",
   "execution_count": null,
   "metadata": {},
   "outputs": [],
   "source": [
    "from gensim.models import word2vec\n",
    "\n",
    "model = word2vec.Word2Vec.load('word2vecModel_article_9k.model')\n",
    "#print(model)\n",
    "#model.save('word2vecModel_article_9k.model')\n",
    "#model.wv.save_word2vec_format('word2vecModel_article_9k.vector',binary=False)\n",
    "model.wv.vocab['人工智能']\n",
    "print(model.wv.similarity('人工智能','美丽')) #两个词的相关性\n"
   ]
  },
  {
   "cell_type": "code",
   "execution_count": 10,
   "metadata": {},
   "outputs": [
    {
     "data": {
      "text/plain": [
       "array([-1.3816704 , -1.0838271 ,  0.73815966, -1.0712588 ,  2.131021  ,\n",
       "       -0.38735053, -1.7730631 , -1.7294872 ,  3.3315153 , -1.6027187 ],\n",
       "      dtype=float32)"
      ]
     },
     "execution_count": 10,
     "metadata": {},
     "output_type": "execute_result"
    }
   ],
   "source": [
    "model.wv['人工智能'][:10] #查看词向量 前10个"
   ]
  },
  {
   "cell_type": "code",
   "execution_count": 12,
   "metadata": {},
   "outputs": [
    {
     "name": "stderr",
     "output_type": "stream",
     "text": [
      "2019-08-10 10:39:38,661 : INFO : loading Word2Vec object from word2vecModel_article_9k.model\n",
      "2019-08-10 10:39:38,979 : INFO : loading wv recursively from word2vecModel_article_9k.model.wv.* with mmap=None\n",
      "2019-08-10 10:39:38,979 : INFO : loading vectors from word2vecModel_article_9k.model.wv.vectors.npy with mmap=None\n",
      "2019-08-10 10:39:39,025 : INFO : setting ignored attribute vectors_norm to None\n",
      "2019-08-10 10:39:39,027 : INFO : loading vocabulary recursively from word2vecModel_article_9k.model.vocabulary.* with mmap=None\n",
      "2019-08-10 10:39:39,027 : INFO : loading trainables recursively from word2vecModel_article_9k.model.trainables.* with mmap=None\n",
      "2019-08-10 10:39:39,028 : INFO : loading syn1neg from word2vecModel_article_9k.model.trainables.syn1neg.npy with mmap=None\n",
      "2019-08-10 10:39:39,080 : INFO : setting ignored attribute cum_table to None\n",
      "2019-08-10 10:39:39,088 : INFO : loaded word2vecModel_article_9k.model\n"
     ]
    }
   ],
   "source": [
    "from gensim import models\n",
    "model = models.Word2Vec.load('word2vecModel_article_9k.model')"
   ]
  },
  {
   "cell_type": "code",
   "execution_count": null,
   "metadata": {},
   "outputs": [
    {
     "name": "stderr",
     "output_type": "stream",
     "text": [
      "2019-08-10 10:40:24,519 : INFO : loading Word2Vec object from word2vecModel_article_9k.model\n",
      "2019-08-10 10:40:24,827 : INFO : loading wv recursively from word2vecModel_article_9k.model.wv.* with mmap=None\n",
      "2019-08-10 10:40:24,827 : INFO : loading vectors from word2vecModel_article_9k.model.wv.vectors.npy with mmap=None\n",
      "2019-08-10 10:40:24,875 : INFO : setting ignored attribute vectors_norm to None\n",
      "2019-08-10 10:40:24,877 : INFO : loading vocabulary recursively from word2vecModel_article_9k.model.vocabulary.* with mmap=None\n",
      "2019-08-10 10:40:24,877 : INFO : loading trainables recursively from word2vecModel_article_9k.model.trainables.* with mmap=None\n",
      "2019-08-10 10:40:24,878 : INFO : loading syn1neg from word2vecModel_article_9k.model.trainables.syn1neg.npy with mmap=None\n",
      "2019-08-10 10:40:24,931 : INFO : setting ignored attribute cum_table to None\n",
      "2019-08-10 10:40:24,933 : INFO : loaded word2vecModel_article_9k.model\n",
      "C:\\Users\\lenovo\\AppData\\Roaming\\Python\\Python37\\site-packages\\ipykernel_launcher.py:19: DeprecationWarning: Call to deprecated `__getitem__` (Method will be removed in 4.0.0, use self.wv.__getitem__() instead).\n"
     ]
    }
   ],
   "source": [
    "import pandas as pd\n",
    "pd.options.mode.chained_assignment = None\n",
    "from gensim.models import Word2Vec\n",
    "from gensim import models\n",
    "from sklearn.manifold import TSNE\n",
    "import matplotlib.pyplot as plt\n",
    "%matplotlib inline\n",
    "\n",
    "from matplotlib.font_manager import FontProperties\n",
    "font = FontProperties(fname=r\"c:\\windows\\fonts\\simsun.ttc\", size=14)\n",
    "\n",
    "model = models.Word2Vec.load('word2vecModel_article_9k.model')\n",
    "\n",
    "def tsne_plot(model):\n",
    "    \"Creates and TSNE model and plots it\"\n",
    "    labels = []\n",
    "    tokens = []\n",
    "    for word in model.wv.vocab:\n",
    "        tokens.append(model[word])\n",
    "        labels.append(word)\n",
    " \n",
    "    tsne_model = TSNE(perplexity=40, n_components=2, init='pca', n_iter=2500, random_state=23)\n",
    "    new_values = tsne_model.fit_transform(tokens)\n",
    "    x = []\n",
    "    y = []\n",
    "    for value in new_values:\n",
    "        x.append(value[0])\n",
    "        y.append(value[1])\n",
    " \n",
    "    plt.figure(figsize=(16, 16))\n",
    "    for i in range(len(x)):\n",
    "        plt.scatter(x[i], y[i])\n",
    "        plt.annotate(labels[i],\n",
    "                     fontproperties=font,\n",
    "                     xy=(x[i], y[i]),\n",
    "                     xytext=(5, 2),\n",
    "                     textcoords='offset points',\n",
    "                     ha='right',\n",
    "                     va='bottom')\n",
    "    plt.show()\n",
    "    \n",
    "tsne_plot(model)"
   ]
  },
  {
   "cell_type": "code",
   "execution_count": null,
   "metadata": {},
   "outputs": [],
   "source": []
  }
 ],
 "metadata": {
  "kernelspec": {
   "display_name": "Python 3",
   "language": "python",
   "name": "python3"
  },
  "language_info": {
   "codemirror_mode": {
    "name": "ipython",
    "version": 3
   },
   "file_extension": ".py",
   "mimetype": "text/x-python",
   "name": "python",
   "nbconvert_exporter": "python",
   "pygments_lexer": "ipython3",
   "version": "3.7.3"
  }
 },
 "nbformat": 4,
 "nbformat_minor": 2
}
