{
 "cells": [
  {
   "cell_type": "markdown",
   "metadata": {},
   "source": [
    "# 全连接网络分类fully connected neural networks"
   ]
  },
  {
   "cell_type": "code",
   "execution_count": 52,
   "metadata": {},
   "outputs": [],
   "source": [
    "import pandas as pd\n",
    "import jieba\n",
    "import re\n",
    "import seaborn as sns\n",
    "import matplotlib.pyplot as plt\n",
    "from gensim.models import Word2Vec\n",
    "%matplotlib inline"
   ]
  },
  {
   "cell_type": "code",
   "execution_count": 8,
   "metadata": {},
   "outputs": [
    {
     "name": "stderr",
     "output_type": "stream",
     "text": [
      "C:\\Users\\lenovo\\AppData\\Roaming\\Python\\Python37\\site-packages\\IPython\\core\\interactiveshell.py:3057: DtypeWarning: Columns (0,4) have mixed types. Specify dtype option on import or set low_memory=False.\n",
      "  interactivity=interactivity, compiler=compiler, result=result)\n"
     ]
    },
    {
     "data": {
      "text/html": [
       "<div>\n",
       "<style scoped>\n",
       "    .dataframe tbody tr th:only-of-type {\n",
       "        vertical-align: middle;\n",
       "    }\n",
       "\n",
       "    .dataframe tbody tr th {\n",
       "        vertical-align: top;\n",
       "    }\n",
       "\n",
       "    .dataframe thead th {\n",
       "        text-align: right;\n",
       "    }\n",
       "</style>\n",
       "<table border=\"1\" class=\"dataframe\">\n",
       "  <thead>\n",
       "    <tr style=\"text-align: right;\">\n",
       "      <th></th>\n",
       "      <th>id</th>\n",
       "      <th>link</th>\n",
       "      <th>name</th>\n",
       "      <th>comment</th>\n",
       "      <th>star</th>\n",
       "    </tr>\n",
       "  </thead>\n",
       "  <tbody>\n",
       "    <tr>\n",
       "      <td>0</td>\n",
       "      <td>1</td>\n",
       "      <td>https://movie.douban.com/subject/26363254/</td>\n",
       "      <td>战狼2</td>\n",
       "      <td>吴京意淫到了脑残的地步，看了恶心想吐</td>\n",
       "      <td>1</td>\n",
       "    </tr>\n",
       "    <tr>\n",
       "      <td>1</td>\n",
       "      <td>2</td>\n",
       "      <td>https://movie.douban.com/subject/26363254/</td>\n",
       "      <td>战狼2</td>\n",
       "      <td>首映礼看的。太恐怖了这个电影，不讲道理的，完全就是吴京在实现他这个小粉红的英雄梦。各种装备轮...</td>\n",
       "      <td>2</td>\n",
       "    </tr>\n",
       "    <tr>\n",
       "      <td>2</td>\n",
       "      <td>3</td>\n",
       "      <td>https://movie.douban.com/subject/26363254/</td>\n",
       "      <td>战狼2</td>\n",
       "      <td>吴京的炒作水平不输冯小刚，但小刚至少不会用主旋律来炒作…吴京让人看了不舒服，为了主旋律而主旋...</td>\n",
       "      <td>2</td>\n",
       "    </tr>\n",
       "    <tr>\n",
       "      <td>3</td>\n",
       "      <td>4</td>\n",
       "      <td>https://movie.douban.com/subject/26363254/</td>\n",
       "      <td>战狼2</td>\n",
       "      <td>凭良心说，好看到不像《战狼1》的续集，完虐《湄公河行动》。</td>\n",
       "      <td>4</td>\n",
       "    </tr>\n",
       "    <tr>\n",
       "      <td>4</td>\n",
       "      <td>5</td>\n",
       "      <td>https://movie.douban.com/subject/26363254/</td>\n",
       "      <td>战狼2</td>\n",
       "      <td>中二得很</td>\n",
       "      <td>1</td>\n",
       "    </tr>\n",
       "    <tr>\n",
       "      <td>5</td>\n",
       "      <td>6</td>\n",
       "      <td>https://movie.douban.com/subject/26363254/</td>\n",
       "      <td>战狼2</td>\n",
       "      <td>“犯我中华者，虽远必诛”，吴京比这句话还要意淫一百倍。</td>\n",
       "      <td>1</td>\n",
       "    </tr>\n",
       "    <tr>\n",
       "      <td>6</td>\n",
       "      <td>7</td>\n",
       "      <td>https://movie.douban.com/subject/26363254/</td>\n",
       "      <td>战狼2</td>\n",
       "      <td>脑子是个好东西，希望编剧们都能有。</td>\n",
       "      <td>2</td>\n",
       "    </tr>\n",
       "  </tbody>\n",
       "</table>\n",
       "</div>"
      ],
      "text/plain": [
       "  id                                        link name  \\\n",
       "0  1  https://movie.douban.com/subject/26363254/  战狼2   \n",
       "1  2  https://movie.douban.com/subject/26363254/  战狼2   \n",
       "2  3  https://movie.douban.com/subject/26363254/  战狼2   \n",
       "3  4  https://movie.douban.com/subject/26363254/  战狼2   \n",
       "4  5  https://movie.douban.com/subject/26363254/  战狼2   \n",
       "5  6  https://movie.douban.com/subject/26363254/  战狼2   \n",
       "6  7  https://movie.douban.com/subject/26363254/  战狼2   \n",
       "\n",
       "                                             comment star  \n",
       "0                                 吴京意淫到了脑残的地步，看了恶心想吐    1  \n",
       "1  首映礼看的。太恐怖了这个电影，不讲道理的，完全就是吴京在实现他这个小粉红的英雄梦。各种装备轮...    2  \n",
       "2  吴京的炒作水平不输冯小刚，但小刚至少不会用主旋律来炒作…吴京让人看了不舒服，为了主旋律而主旋...    2  \n",
       "3                      凭良心说，好看到不像《战狼1》的续集，完虐《湄公河行动》。    4  \n",
       "4                                               中二得很    1  \n",
       "5                        “犯我中华者，虽远必诛”，吴京比这句话还要意淫一百倍。    1  \n",
       "6                                  脑子是个好东西，希望编剧们都能有。    2  "
      ]
     },
     "execution_count": 8,
     "metadata": {},
     "output_type": "execute_result"
    }
   ],
   "source": [
    "filename = r'D:\\dataset\\movie_comments.csv'\n",
    "mc = pd.read_csv(filename,encoding = 'utf-8')\n",
    "mc.head(7)"
   ]
  },
  {
   "cell_type": "code",
   "execution_count": 4,
   "metadata": {},
   "outputs": [
    {
     "data": {
      "text/plain": [
       "(261497, 5)"
      ]
     },
     "execution_count": 4,
     "metadata": {},
     "output_type": "execute_result"
    }
   ],
   "source": [
    "mc.shape"
   ]
  },
  {
   "cell_type": "code",
   "execution_count": 5,
   "metadata": {},
   "outputs": [
    {
     "data": {
      "text/plain": [
       "(261495, 5)"
      ]
     },
     "execution_count": 5,
     "metadata": {},
     "output_type": "execute_result"
    }
   ],
   "source": [
    "mc = mc[pd.notnull(mc['comment'])]\n",
    "mc.shape"
   ]
  },
  {
   "cell_type": "code",
   "execution_count": 6,
   "metadata": {},
   "outputs": [
    {
     "data": {
      "text/plain": [
       "(213970, 5)"
      ]
     },
     "execution_count": 6,
     "metadata": {},
     "output_type": "execute_result"
    }
   ],
   "source": [
    "mc.drop_duplicates(['comment'],inplace = True)\n",
    "mc.shape"
   ]
  },
  {
   "cell_type": "code",
   "execution_count": 14,
   "metadata": {},
   "outputs": [],
   "source": [
    "def comment_word_token(comment):\n",
    "    if not isinstance(comment,str):\n",
    "        print(comment)\n",
    "        return\n",
    "    pattern = re.compile('[\\u4E00-\\u9FA5]')\n",
    "    only_chinese = pattern.findall(comment)\n",
    "    chinese_comment = ''.join(only_chinese)\n",
    "    chinese_tokens = jieba.cut(chinese_comment)\n",
    "    word_tokens = ' '.join(chinese_tokens)\n",
    "    if word_tokens == '':\n",
    "        return None\n",
    "    return word_tokens"
   ]
  },
  {
   "cell_type": "code",
   "execution_count": 19,
   "metadata": {},
   "outputs": [],
   "source": [
    "mc['word_tokens'] = mc['comment'].apply(comment_word_token)"
   ]
  },
  {
   "cell_type": "code",
   "execution_count": 20,
   "metadata": {},
   "outputs": [
    {
     "data": {
      "text/plain": [
       "(253336, 6)"
      ]
     },
     "execution_count": 20,
     "metadata": {},
     "output_type": "execute_result"
    }
   ],
   "source": [
    "mc = mc[pd.notnull(mc['word_tokens'])]\n",
    "mc.shape"
   ]
  },
  {
   "cell_type": "code",
   "execution_count": 25,
   "metadata": {},
   "outputs": [],
   "source": [
    "mc.index = range(mc.shape[0])"
   ]
  },
  {
   "cell_type": "code",
   "execution_count": 29,
   "metadata": {},
   "outputs": [],
   "source": [
    "def plot_star_count(count_star):\n",
    "    plt.figure(figsize=(12,4))\n",
    "    sns.barplot(count_star.index, count_star.values, alpha=0.8)\n",
    "    plt.ylabel('Number of Occurrences', fontsize=12)\n",
    "    plt.xlabel('Star', fontsize=12)\n",
    "    plt.xticks(rotation=90)\n",
    "    plt.show()"
   ]
  },
  {
   "cell_type": "code",
   "execution_count": 31,
   "metadata": {},
   "outputs": [
    {
     "data": {
      "image/png": "[encoded data removed]",
      "text/plain": [
       "<Figure size 864x288 with 1 Axes>"
      ]
     },
     "metadata": {
      "needs_background": "light"
     },
     "output_type": "display_data"
    }
   ],
   "source": [
    "plot_star_count(mc['star'].value_counts())"
   ]
  },
  {
   "cell_type": "code",
   "execution_count": 34,
   "metadata": {},
   "outputs": [],
   "source": [
    "num_str_list = ['0', '1', '2', '3', '4', '5']\n",
    "for i in range(len(num_str_list)):\n",
    "    mc.loc[mc['star'] == num_str_list[i], 'star'] = i"
   ]
  },
  {
   "cell_type": "code",
   "execution_count": 36,
   "metadata": {},
   "outputs": [
    {
     "data": {
      "image/png": "[encoded data removed]",
      "text/plain": [
       "<Figure size 864x288 with 1 Axes>"
      ]
     },
     "metadata": {
      "needs_background": "light"
     },
     "output_type": "display_data"
    }
   ],
   "source": [
    "plot_star_count(mc['star'].value_counts())"
   ]
  },
  {
   "cell_type": "code",
   "execution_count": 37,
   "metadata": {},
   "outputs": [],
   "source": [
    "star_counts = mc['star'].value_counts()"
   ]
  },
  {
   "cell_type": "code",
   "execution_count": 38,
   "metadata": {},
   "outputs": [],
   "source": [
    "size_per_class = star_counts.min()"
   ]
  },
  {
   "cell_type": "code",
   "execution_count": 39,
   "metadata": {},
   "outputs": [],
   "source": [
    "star_class_list = mc['star'].unique().tolist()\n",
    "star_class_list.sort()"
   ]
  },
  {
   "cell_type": "code",
   "execution_count": 40,
   "metadata": {},
   "outputs": [
    {
     "name": "stdout",
     "output_type": "stream",
     "text": [
      "[1, 2, 3, 4, 5]\n"
     ]
    }
   ],
   "source": [
    "print(star_class_list)"
   ]
  },
  {
   "cell_type": "code",
   "execution_count": 41,
   "metadata": {},
   "outputs": [],
   "source": [
    "def make_banlance_samples(mc, star_class, size_per_class):\n",
    "    tmp_ser = mc['word_tokens'][mc['star'] == star_class]\n",
    "    if tmp_ser.shape[0] > size_per_class:\n",
    "        tmp_ser = tmp_ser.sample(n=size_per_class, random_state=42)\n",
    "    tmp_ser.index = range(tmp_ser.shape[0])\n",
    "    #tmp_ser.name = 'star_{}'.format(star_class)\n",
    "    return tmp_ser"
   ]
  },
  {
   "cell_type": "code",
   "execution_count": 44,
   "metadata": {},
   "outputs": [],
   "source": [
    "def merge_mc(mc, star_class_list, size_per_class):\n",
    "    new_mc = pd.DataFrame()\n",
    "    for star_class in star_class_list:\n",
    "        star_ser = make_banlance_samples(mc, star_class, size_per_class)\n",
    "        #star = 'star_{}'.format(star_class)\n",
    "        new_mc = pd.concat([new_mc, pd.DataFrame(star_ser)], axis=1, ignore_index=True)\n",
    "        #new_df = new_df.append(make_banlance_samples(df, star_class, size_per_class))\n",
    "    \n",
    "    return new_mc"
   ]
  },
  {
   "cell_type": "code",
   "execution_count": 48,
   "metadata": {},
   "outputs": [],
   "source": [
    "new_mc = merge_mc(mc, star_class_list, size_per_class)\n",
    "new_mc.columns=['star_1', 'star_2', 'star_3', 'star_4','star_5']"
   ]
  },
  {
   "cell_type": "code",
   "execution_count": 49,
   "metadata": {
    "scrolled": true
   },
   "outputs": [
    {
     "data": {
      "text/html": [
       "<div>\n",
       "<style scoped>\n",
       "    .dataframe tbody tr th:only-of-type {\n",
       "        vertical-align: middle;\n",
       "    }\n",
       "\n",
       "    .dataframe tbody tr th {\n",
       "        vertical-align: top;\n",
       "    }\n",
       "\n",
       "    .dataframe thead th {\n",
       "        text-align: right;\n",
       "    }\n",
       "</style>\n",
       "<table border=\"1\" class=\"dataframe\">\n",
       "  <thead>\n",
       "    <tr style=\"text-align: right;\">\n",
       "      <th></th>\n",
       "      <th>star_1</th>\n",
       "      <th>star_2</th>\n",
       "      <th>star_3</th>\n",
       "      <th>star_4</th>\n",
       "      <th>star_5</th>\n",
       "    </tr>\n",
       "  </thead>\n",
       "  <tbody>\n",
       "    <tr>\n",
       "      <td>0</td>\n",
       "      <td>吴京 意淫 到 了 脑残 的 地步 看 了 恶心 想 吐</td>\n",
       "      <td>牵强</td>\n",
       "      <td>好 吧 新海 诚 你 到底 矫情 到 什么 程度 才 算是 个 完 星星 之声 看来 是 难...</td>\n",
       "      <td>父 跑跑 妈 抱抱 中产 烦恼 知多少 雪山 仿若 幻境 拍得 很 好 在 一片 白 里面 ...</td>\n",
       "      <td>世界 上 最酷 的 猪</td>\n",
       "    </tr>\n",
       "    <tr>\n",
       "      <td>1</td>\n",
       "      <td>中二得 很</td>\n",
       "      <td>不 喜欢 这种 手持 风格</td>\n",
       "      <td>获 戛纳 影展 金棕榈奖 费 比西 奖 纽约 影评人 协会 最佳 外语片 费里尼 背叛 三部曲</td>\n",
       "      <td>三个 儿子 都 不是 亲生 的</td>\n",
       "      <td>一部 男人 戏中 刘嘉玲 真 真让人 过目难忘</td>\n",
       "    </tr>\n",
       "    <tr>\n",
       "      <td>2</td>\n",
       "      <td>犯 我 中华 者 虽远必 诛 吴京 比 这句 话 还要 意淫 一百倍</td>\n",
       "      <td>想和彪 猫蕊 唱</td>\n",
       "      <td>现在 来看 就 像 一部 小品</td>\n",
       "      <td>结尾 真是 厉害 啊</td>\n",
       "      <td>很 男人 但 我 一直 不 明白 关于 那个 变态 和 小女孩</td>\n",
       "    </tr>\n",
       "    <tr>\n",
       "      <td>3</td>\n",
       "      <td>吴京 的 冷峰 在 这部 里 即 像 成龙 又 像杰 森斯坦 森但 体制 外 的 同 类型 ...</td>\n",
       "      <td>看 的 第一部 同性 电影 真是 不想 说 什么 了 谜 之 编剧 谜 之 导演 不过 取景...</td>\n",
       "      <td>杀人 王</td>\n",
       "      <td>男爵 男爵 男爵</td>\n",
       "      <td>力量感 爆棚 了 啊 话 说 双生 加 起来 不过 抵上 个 王羽 的确如此</td>\n",
       "    </tr>\n",
       "    <tr>\n",
       "      <td>4</td>\n",
       "      <td>犯 我 中华 者 虽远必 诛 是 有 多 无脑 才 信 这句 话</td>\n",
       "      <td>好 无聊 被 骗 了</td>\n",
       "      <td>那 时候 的 董洁 真美 啊 真美</td>\n",
       "      <td>警匪 僵尸 片</td>\n",
       "      <td>理解能力 有限</td>\n",
       "    </tr>\n",
       "  </tbody>\n",
       "</table>\n",
       "</div>"
      ],
      "text/plain": [
       "                                              star_1  \\\n",
       "0                       吴京 意淫 到 了 脑残 的 地步 看 了 恶心 想 吐   \n",
       "1                                              中二得 很   \n",
       "2                 犯 我 中华 者 虽远必 诛 吴京 比 这句 话 还要 意淫 一百倍   \n",
       "3  吴京 的 冷峰 在 这部 里 即 像 成龙 又 像杰 森斯坦 森但 体制 外 的 同 类型 ...   \n",
       "4                   犯 我 中华 者 虽远必 诛 是 有 多 无脑 才 信 这句 话   \n",
       "\n",
       "                                              star_2  \\\n",
       "0                                                 牵强   \n",
       "1                                      不 喜欢 这种 手持 风格   \n",
       "2                                           想和彪 猫蕊 唱   \n",
       "3  看 的 第一部 同性 电影 真是 不想 说 什么 了 谜 之 编剧 谜 之 导演 不过 取景...   \n",
       "4                                         好 无聊 被 骗 了   \n",
       "\n",
       "                                              star_3  \\\n",
       "0  好 吧 新海 诚 你 到底 矫情 到 什么 程度 才 算是 个 完 星星 之声 看来 是 难...   \n",
       "1    获 戛纳 影展 金棕榈奖 费 比西 奖 纽约 影评人 协会 最佳 外语片 费里尼 背叛 三部曲   \n",
       "2                                    现在 来看 就 像 一部 小品   \n",
       "3                                               杀人 王   \n",
       "4                                  那 时候 的 董洁 真美 啊 真美   \n",
       "\n",
       "                                              star_4  \\\n",
       "0  父 跑跑 妈 抱抱 中产 烦恼 知多少 雪山 仿若 幻境 拍得 很 好 在 一片 白 里面 ...   \n",
       "1                                    三个 儿子 都 不是 亲生 的   \n",
       "2                                         结尾 真是 厉害 啊   \n",
       "3                                           男爵 男爵 男爵   \n",
       "4                                            警匪 僵尸 片   \n",
       "\n",
       "                                   star_5  \n",
       "0                             世界 上 最酷 的 猪  \n",
       "1                 一部 男人 戏中 刘嘉玲 真 真让人 过目难忘  \n",
       "2         很 男人 但 我 一直 不 明白 关于 那个 变态 和 小女孩  \n",
       "3  力量感 爆棚 了 啊 话 说 双生 加 起来 不过 抵上 个 王羽 的确如此  \n",
       "4                                 理解能力 有限  "
      ]
     },
     "execution_count": 49,
     "metadata": {},
     "output_type": "execute_result"
    }
   ],
   "source": [
    "new_mc.head()"
   ]
  },
  {
   "cell_type": "code",
   "execution_count": 50,
   "metadata": {},
   "outputs": [],
   "source": [
    "new_mc.to_csv('douban.csv',index=False)"
   ]
  }
 ],
 "metadata": {
  "kernelspec": {
   "display_name": "Python 3",
   "language": "python",
   "name": "python3"
  },
  "language_info": {
   "codemirror_mode": {
    "name": "ipython",
    "version": 3
   },
   "file_extension": ".py",
   "mimetype": "text/x-python",
   "name": "python",
   "nbconvert_exporter": "python",
   "pygments_lexer": "ipython3",
   "version": "3.7.3"
  }
 },
 "nbformat": 4,
 "nbformat_minor": 2
}
